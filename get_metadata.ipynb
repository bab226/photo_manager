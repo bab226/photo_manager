{
 "cells": [
  {
   "cell_type": "code",
   "execution_count": 15,
   "metadata": {},
   "outputs": [],
   "source": [
    "from PIL import Image\n",
    "from PIL.ExifTags import TAGS, GPSTAGS\n",
    "\n",
    "def extract_metadata(image_path):\n",
    "    \"\"\"Extract and print EXIF metadata of an image.\"\"\"\n",
    "    try:\n",
    "        with Image.open(image_path) as img:\n",
    "            exif_data = img._getexif()  # Get EXIF data\n",
    "            if not exif_data:\n",
    "                print(f\"No EXIF metadata found in {image_path}\")\n",
    "                return\n",
    "            \n",
    "            # Decode EXIF tags\n",
    "            metadata = {}\n",
    "            for tag_id, value in exif_data.items():\n",
    "                tag_name = TAGS.get(tag_id, tag_id)\n",
    "                metadata[tag_name] = value\n",
    "            \n",
    "            # Print metadata\n",
    "            for key, value in metadata.items():\n",
    "                print(f\"{key}: {value}\")\n",
    "            \n",
    "            # Check GPS metadata separately if needed\n",
    "            if \"GPSInfo\" in metadata:\n",
    "                gps_info = {}\n",
    "                for gps_id in metadata[\"GPSInfo\"]:\n",
    "                    gps_tag = GPSTAGS.get(gps_id, gps_id)\n",
    "                    gps_info[gps_tag] = metadata[\"GPSInfo\"][gps_id]\n",
    "                print(\"\\nGPS Metadata:\")\n",
    "                for key, value in gps_info.items():\n",
    "                    print(f\"{key}: {value}\")\n",
    "    except Exception as e:\n",
    "        print(f\"Error reading metadata: {e}\")"
   ]
  },
  {
   "cell_type": "code",
   "execution_count": null,
   "metadata": {},
   "outputs": [
    {
     "name": "stdout",
     "output_type": "stream",
     "text": [
      "ImageWidth: 4032\n",
      "ImageLength: 3024\n",
      "GPSInfo: {1: 'N', 2: (41.0, 18.0, 56.8908), 3: 'W', 4: (72.0, 55.0, 26.2487), 5: b'\\x00', 6: 7.32, 7: (20.0, 18.0, 18.0), 27: b'ASCII\\x00\\x00\\x00GPS\\x00', 29: '2019:08:21'}\n",
      "ResolutionUnit: 2\n",
      "ExifOffset: 238\n",
      "Make: samsung\n",
      "Model: SM-G973U\n",
      "Software: G973USQS2ASGB\n",
      "Orientation: 6\n",
      "DateTime: 2019:08:21 18:22:19\n",
      "YCbCrPositioning: 1\n",
      "XResolution: 72.0\n",
      "YResolution: 72.0\n",
      "ExifVersion: b'0220'\n",
      "ComponentsConfiguration: b'\\x01\\x02\\x03\\x00'\n",
      "ShutterSpeedValue: 6.645\n",
      "DateTimeOriginal: 2019:08:21 18:22:19\n",
      "DateTimeDigitized: 2019:08:21 18:22:19\n",
      "ApertureValue: 1.16\n",
      "BrightnessValue: 2.26\n",
      "ExposureBiasValue: nan\n",
      "MaxApertureValue: 1.16\n",
      "MeteringMode: 2\n",
      "Flash: 0\n",
      "FocalLength: 4.3\n",
      "ColorSpace: 1\n",
      "ExifImageWidth: 4032\n",
      "ExifInteroperabilityOffset: 731\n",
      "SceneCaptureType: 0\n",
      "SubsecTime: 272513\n",
      "SubsecTimeOriginal: 272513\n",
      "SubsecTimeDigitized: 272513\n",
      "ExifImageHeight: 3024\n",
      "SensingMethod: 1\n",
      "ExposureTime: 0.01\n",
      "FNumber: 1.5\n",
      "SceneType: b'\\x01'\n",
      "ExposureProgram: 2\n",
      "ISOSpeedRatings: 160\n",
      "ExposureMode: 0\n",
      "FlashPixVersion: b'0100'\n",
      "WhiteBalance: 0\n",
      "FocalLengthIn35mmFilm: 26\n",
      "\n",
      "GPS Metadata:\n",
      "GPSLatitudeRef: N\n",
      "GPSLatitude: (41.0, 18.0, 56.8908)\n",
      "GPSLongitudeRef: W\n",
      "GPSLongitude: (72.0, 55.0, 26.2487)\n",
      "GPSAltitudeRef: b'\\x00'\n",
      "GPSAltitude: 7.32\n",
      "GPSTimeStamp: (20.0, 18.0, 18.0)\n",
      "GPSProcessingMethod: b'ASCII\\x00\\x00\\x00GPS\\x00'\n",
      "GPSDateStamp: 2019:08:21\n"
     ]
    }
   ],
   "source": [
    "# Get metadata\n",
    "extract_metadata(\"/Users/bab226/Pictures/test_dataset/converted_images/20190821_182219.jpg\")"
   ]
  }
 ],
 "metadata": {
  "kernelspec": {
   "display_name": "jupyter_env",
   "language": "python",
   "name": "python3"
  },
  "language_info": {
   "codemirror_mode": {
    "name": "ipython",
    "version": 3
   },
   "file_extension": ".py",
   "mimetype": "text/x-python",
   "name": "python",
   "nbconvert_exporter": "python",
   "pygments_lexer": "ipython3",
   "version": "3.9.18"
  }
 },
 "nbformat": 4,
 "nbformat_minor": 2
}
