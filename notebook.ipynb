{
 "cells": [
  {
   "cell_type": "code",
   "execution_count": 2,
   "metadata": {},
   "outputs": [],
   "source": [
    "import os\n",
    "import hashlib\n",
    "import shutil"
   ]
  },
  {
   "cell_type": "code",
   "execution_count": 3,
   "metadata": {},
   "outputs": [],
   "source": [
    "def find_images(directory):\n",
    "    image_files = []\n",
    "    for dirpath, _, filenames in os.walk(directory):\n",
    "        for filename in filenames:\n",
    "            if filename.lower().endswith(('.png', '.jpg', '.jpeg', '.gif', '.bmp')):\n",
    "                image_files.append(os.path.join(dirpath, filename))\n",
    "    return image_files\n",
    "\n",
    "# Step 2: Function to generate image hashes\n",
    "def hash_image(filepath):\n",
    "    hasher = hashlib.md5()\n",
    "    with open(filepath, 'rb') as f:\n",
    "        buf = f.read()\n",
    "        hasher.update(buf)\n",
    "    return hasher.hexdigest()\n",
    "\n",
    "# Step 3: Function to compare image hashes and find duplicates\n",
    "def find_duplicates(image_files):\n",
    "    hashes = {}\n",
    "    duplicates = []\n",
    "    for filepath in image_files:\n",
    "        image_hash = hash_image(filepath)\n",
    "        if image_hash in hashes:\n",
    "            duplicates.append((filepath, hashes[image_hash]))\n",
    "        else:\n",
    "            hashes[image_hash] = filepath\n",
    "    return duplicates\n",
    "\n",
    "# Step 4: Function to delete duplicate images\n",
    "def delete_duplicates(duplicates):\n",
    "    if not os.path.exists(\"./duplicates/\"):\n",
    "        os.makedirs(\"./duplicates/\")\n",
    "    for duplicate, original in duplicates:\n",
    "        # Uncomment the next line to actually delete the file\n",
    "        # os.remove(duplicate)\n",
    "        print(f\"Duplicate: {duplicate} -> Original: {original}\")\n",
    "        # Optionally, move duplicates to a separate folder for review\n",
    "        shutil.move(duplicate, \"./duplicates/\")\n",
    "\n"
   ]
  },
  {
   "cell_type": "code",
   "execution_count": 5,
   "metadata": {},
   "outputs": [],
   "source": [
    "\n",
    "# Execute\n",
    "directory = \"/Users/bab226/Pictures/\"\n",
    "image_files = find_images(directory)\n",
    "duplicates = find_duplicates(image_files)\n",
    "delete_duplicates(duplicates)"
   ]
  },
  {
   "cell_type": "code",
   "execution_count": 6,
   "metadata": {},
   "outputs": [
    {
     "data": {
      "text/plain": [
       "'/Users/bab226/Pictures/'"
      ]
     },
     "execution_count": 6,
     "metadata": {},
     "output_type": "execute_result"
    }
   ],
   "source": [
    "directory"
   ]
  },
  {
   "cell_type": "code",
   "execution_count": 8,
   "metadata": {},
   "outputs": [
    {
     "data": {
      "text/plain": [
       "['/Users/bab226/Pictures/bryan_photos/20230409_081759.jpg',\n",
       " '/Users/bab226/Pictures/bryan_photos/IMG_3795.JPG',\n",
       " '/Users/bab226/Pictures/bryan_photos/20221028_140514.jpg',\n",
       " '/Users/bab226/Pictures/bryan_photos/20221220_153348.jpg',\n",
       " '/Users/bab226/Pictures/bryan_photos/20221021_174820.jpg',\n",
       " '/Users/bab226/Pictures/bryan_photos/20230421_163457.jpg',\n",
       " '/Users/bab226/Pictures/bryan_photos/20230423_084245.jpg',\n",
       " '/Users/bab226/Pictures/conor_photos/20221217_131905.jpg',\n",
       " '/Users/bab226/Pictures/conor_photos/20221219_165350.jpg',\n",
       " '/Users/bab226/Pictures/conor_photos/20221218_193955.jpg',\n",
       " '/Users/bab226/Pictures/conor_photos/20221217_131940.jpg',\n",
       " '/Users/bab226/Pictures/stephanie_photos/20221015_191458.jpg',\n",
       " '/Users/bab226/Pictures/stephanie_photos/20221018_190200.jpg',\n",
       " '/Users/bab226/Pictures/stephanie_photos/20221015_191453.jpg',\n",
       " '/Users/bab226/Pictures/stephanie_photos/20221028_133118.jpg',\n",
       " '/Users/bab226/Pictures/stephanie_photos/20230128_151550.jpg',\n",
       " '/Users/bab226/Pictures/stephanie_photos/20221001_153629.jpg',\n",
       " '/Users/bab226/Pictures/stephanie_photos/20221001_151834.jpg',\n",
       " '/Users/bab226/Pictures/stephanie_photos/20221018_182856.jpg',\n",
       " '/Users/bab226/Pictures/josh_photos/20230421_183020.jpg',\n",
       " '/Users/bab226/Pictures/josh_photos/20230421_193131.jpg',\n",
       " '/Users/bab226/Pictures/josh_photos/20230421_180540.jpg',\n",
       " '/Users/bab226/Pictures/josh_photos/20230421_180521.jpg']"
      ]
     },
     "execution_count": 8,
     "metadata": {},
     "output_type": "execute_result"
    }
   ],
   "source": [
    "image_files"
   ]
  },
  {
   "cell_type": "code",
   "execution_count": 10,
   "metadata": {},
   "outputs": [],
   "source": [
    "hashes = {}\n",
    "duplicates = []\n",
    "for filepath in image_files:\n",
    "    image_hash = hash_image(filepath)\n",
    "    if image_hash in hashes:\n",
    "        duplicates.append((filepath, hashes[image_hash]))\n",
    "    else:\n",
    "        hashes[image_hash] = filepath"
   ]
  },
  {
   "cell_type": "code",
   "execution_count": 13,
   "metadata": {},
   "outputs": [
    {
     "data": {
      "text/plain": [
       "{'09e8e2c74cb29db0f421982fcdec362e': '/Users/bab226/Pictures/bryan_photos/20230409_081759.jpg',\n",
       " 'eccd05b005438bc5612f5d8fb2e7d7a8': '/Users/bab226/Pictures/bryan_photos/IMG_3795.JPG',\n",
       " '1e789686bcd453c881b7bad3c7a6d7f4': '/Users/bab226/Pictures/bryan_photos/20221028_140514.jpg',\n",
       " '25a55aed1227faf53088c406c4844025': '/Users/bab226/Pictures/bryan_photos/20221220_153348.jpg',\n",
       " '5e3f202e386f2153fd46e0c3b81ad6ae': '/Users/bab226/Pictures/bryan_photos/20221021_174820.jpg',\n",
       " '35475a5b5478922d4693d63f4ec303eb': '/Users/bab226/Pictures/bryan_photos/20230421_163457.jpg',\n",
       " 'f3ceb858bd148b9f452b46ca8bc9465b': '/Users/bab226/Pictures/bryan_photos/20230423_084245.jpg',\n",
       " '3f15ffc58d95bea1e1fc9d8d6ccb61ff': '/Users/bab226/Pictures/conor_photos/20221217_131905.jpg',\n",
       " '9527b0cdb7ddac63c2b791aa196bf6b2': '/Users/bab226/Pictures/conor_photos/20221219_165350.jpg',\n",
       " '5d864b026bafd025ae2c589b8a15c05c': '/Users/bab226/Pictures/conor_photos/20221218_193955.jpg',\n",
       " 'c229fed99379e6123b6dfdfb2dc14bf0': '/Users/bab226/Pictures/conor_photos/20221217_131940.jpg',\n",
       " '1fc0b0d4c77f06c3d675a1b72fe9e4d6': '/Users/bab226/Pictures/stephanie_photos/20221015_191458.jpg',\n",
       " '6536a3cf8c698253be2ba8c8bba917bb': '/Users/bab226/Pictures/stephanie_photos/20221018_190200.jpg',\n",
       " '0171299d63af4fadafd89131419cb847': '/Users/bab226/Pictures/stephanie_photos/20221015_191453.jpg',\n",
       " '52e9e45ff34b96e5ef5fbd6aafd9caa4': '/Users/bab226/Pictures/stephanie_photos/20221028_133118.jpg',\n",
       " 'b1a122afcb3daba38fac78d5f193c602': '/Users/bab226/Pictures/stephanie_photos/20230128_151550.jpg',\n",
       " 'dd49c19546d10ee9443d20a002c106e1': '/Users/bab226/Pictures/stephanie_photos/20221001_153629.jpg',\n",
       " 'f4ccdefab093864122da31b5326f62fb': '/Users/bab226/Pictures/stephanie_photos/20221001_151834.jpg',\n",
       " '86dcfa2845b0aa38c01c490228aeb537': '/Users/bab226/Pictures/stephanie_photos/20221018_182856.jpg',\n",
       " '4523e58109dbeba5897a53253cd1d31f': '/Users/bab226/Pictures/josh_photos/20230421_183020.jpg',\n",
       " '125f8076d94ce85e7e96291f741c194e': '/Users/bab226/Pictures/josh_photos/20230421_193131.jpg',\n",
       " '78dbe7489b5eb88aca88314900685021': '/Users/bab226/Pictures/josh_photos/20230421_180540.jpg',\n",
       " '18184fb5e4e798a92dd5ea87c74094c9': '/Users/bab226/Pictures/josh_photos/20230421_180521.jpg'}"
      ]
     },
     "execution_count": 13,
     "metadata": {},
     "output_type": "execute_result"
    }
   ],
   "source": [
    "hashes"
   ]
  },
  {
   "cell_type": "code",
   "execution_count": null,
   "metadata": {},
   "outputs": [],
   "source": []
  }
 ],
 "metadata": {
  "kernelspec": {
   "display_name": "photo_manager",
   "language": "python",
   "name": "python3"
  },
  "language_info": {
   "codemirror_mode": {
    "name": "ipython",
    "version": 3
   },
   "file_extension": ".py",
   "mimetype": "text/x-python",
   "name": "python",
   "nbconvert_exporter": "python",
   "pygments_lexer": "ipython3",
   "version": "3.10.16"
  }
 },
 "nbformat": 4,
 "nbformat_minor": 2
}
